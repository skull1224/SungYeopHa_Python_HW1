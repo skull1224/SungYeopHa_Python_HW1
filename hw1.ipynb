{
 "cells": [
  {
   "cell_type": "code",
   "execution_count": 1,
   "metadata": {},
   "outputs": [],
   "source": [
    "from select import select\n",
    "\n",
    "\n",
    "memory = []\n",
    "head,pre,current=None,None,None\n",
    "def add(adddata):\n",
    "    global memory,head,current,pre\n",
    "    memory.append(None)\n",
    "    Len = len(memory)\n",
    "    memory[Len-1] = adddata\n",
    "    \n",
    "\n",
    "def sort1(memory):\n",
    "    for i in range(len(memory)-1) :
        for j in range(i+1, len(memory)):
            x = memory[i].split(',')
            y = memory[j].split(',')
            if int(x[1].replace(')', '')) < int(y[1].replace(')', '')):
                int(x[1].replace(')', ''))
                memory[i], memory[j] = memory[j], memory[i]
    print(memory)
    "def Del(pos):\n",
    "    global memory,head,current,pre\n",
    "    if pos<0 or pos>len(katok) :\n",
    "        print(\"삭제할 데이터가 없거나 범위가 넘었습니다.\")\n",
    "        return\n",
    "    Len = len(memory)\n",
    "    memory[pos]=None\n",
    "    for i in range(pos+1,Len):\n",
    "        memory[i-1]=memory[i]\n",
    "        memory[i]=None\n",
    "    \n",
    "    del(memory[Len-1])\n",
    "    \n",
    "    \n",
    "    \n",
    "if __name__ == \"__main__\" :\n",
    "    \n",
    "    \n",
    "    while(select != 3):\n",
    "        select=int(input(\"선택하세요(1:추가,2:삭제,3종료)-->\"))\n",
    "        \n",
    "        if(select == 1):\n",
    "            data = input(\"추가할 데이터-->\")\n",
    "            add(data)\n",
    "            sort1(memory)\n",
    "        elif(select == 2):\n",
    "            pos = int(input(\"삭제할 순서-->\"))\n",
    "            Del(pos)\n",
    "            print(memory)\n",
    "        elif(select == 3):\n",
    "            exit\n",
    "        else:\n",
    "            print(\"1~3 중 입력하세요\")\n",
    "            break\n",
    "    "
   ]
  }
 ],
 "metadata": {
  "kernelspec": {
   "display_name": "Python 3.8.9 64-bit",
   "language": "python",
   "name": "python3"
  },
  "language_info": {
   "codemirror_mode": {
    "name": "ipython",
    "version": 3
   },
   "file_extension": ".py",
   "mimetype": "text/x-python",
   "name": "python",
   "nbconvert_exporter": "python",
   "pygments_lexer": "ipython3",
   "version": "3.8.9"
  },
  "orig_nbformat": 4,
  "vscode": {
   "interpreter": {
    "hash": "31f2aee4e71d21fbe5cf8b01ff0e069b9275f58929596ceb00d14d90e3e16cd6"
   }
  }
 },
 "nbformat": 4,
 "nbformat_minor": 2
}
